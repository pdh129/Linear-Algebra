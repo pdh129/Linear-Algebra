{
 "cells": [
  {
   "cell_type": "code",
   "execution_count": 1,
   "id": "50f88732",
   "metadata": {},
   "outputs": [
    {
     "name": "stdout",
     "output_type": "stream",
     "text": [
      "Requirement already satisfied: openpyxl in c:\\programdata\\anaconda3\\lib\\site-packages (3.0.10)\n",
      "Requirement already satisfied: et_xmlfile in c:\\programdata\\anaconda3\\lib\\site-packages (from openpyxl) (1.1.0)\n"
     ]
    }
   ],
   "source": [
    "!pip install openpyxl"
   ]
  },
  {
   "cell_type": "code",
   "execution_count": 2,
   "id": "579e6298",
   "metadata": {},
   "outputs": [],
   "source": [
    "from openpyxl import Workbook"
   ]
  },
  {
   "cell_type": "markdown",
   "id": "a36e4e74",
   "metadata": {},
   "source": [
    "엑셀을 다루는 패키지, 모듈"
   ]
  },
  {
   "cell_type": "code",
   "execution_count": 3,
   "id": "671a562f",
   "metadata": {},
   "outputs": [],
   "source": [
    "wb = Workbook()"
   ]
  },
  {
   "cell_type": "code",
   "execution_count": 4,
   "id": "ca94eef5",
   "metadata": {},
   "outputs": [
    {
     "data": {
      "text/plain": [
       "['Sheet']"
      ]
     },
     "execution_count": 4,
     "metadata": {},
     "output_type": "execute_result"
    }
   ],
   "source": [
    "wb.sheetnames"
   ]
  },
  {
   "cell_type": "code",
   "execution_count": 5,
   "id": "4ad50634",
   "metadata": {},
   "outputs": [
    {
     "data": {
      "text/plain": [
       "<Worksheet \"new_sheet2\">"
      ]
     },
     "execution_count": 5,
     "metadata": {},
     "output_type": "execute_result"
    }
   ],
   "source": [
    "wb.create_sheet(\"new_sheet2\")"
   ]
  },
  {
   "cell_type": "code",
   "execution_count": 6,
   "id": "07c595a6",
   "metadata": {},
   "outputs": [
    {
     "data": {
      "text/plain": [
       "<Worksheet \"new_sheet1\">"
      ]
     },
     "execution_count": 6,
     "metadata": {},
     "output_type": "execute_result"
    }
   ],
   "source": [
    "wb.create_sheet(\"new_sheet1\", 1)"
   ]
  },
  {
   "cell_type": "markdown",
   "id": "5fbaf796",
   "metadata": {},
   "source": [
    "시트의 위치도 지정가능, 1번"
   ]
  },
  {
   "cell_type": "code",
   "execution_count": 7,
   "id": "56beae49",
   "metadata": {},
   "outputs": [
    {
     "data": {
      "text/plain": [
       "['Sheet', 'new_sheet1', 'new_sheet2']"
      ]
     },
     "execution_count": 7,
     "metadata": {},
     "output_type": "execute_result"
    }
   ],
   "source": [
    "wb.sheetnames"
   ]
  },
  {
   "cell_type": "code",
   "execution_count": 8,
   "id": "d16e14ab",
   "metadata": {},
   "outputs": [],
   "source": [
    "ws = wb['Sheet']"
   ]
  },
  {
   "cell_type": "markdown",
   "id": "fe0b639b",
   "metadata": {},
   "source": [
    "작업할 시트 선택"
   ]
  },
  {
   "cell_type": "code",
   "execution_count": 9,
   "id": "5063df18",
   "metadata": {},
   "outputs": [
    {
     "data": {
      "text/plain": [
       "'Sheet'"
      ]
     },
     "execution_count": 9,
     "metadata": {},
     "output_type": "execute_result"
    }
   ],
   "source": [
    "ws.title"
   ]
  },
  {
   "cell_type": "code",
   "execution_count": 10,
   "id": "223562d3",
   "metadata": {},
   "outputs": [],
   "source": [
    "ws.title = '주소록'"
   ]
  },
  {
   "cell_type": "markdown",
   "id": "5cfbdf3f",
   "metadata": {},
   "source": [
    "시트 이름 변경"
   ]
  },
  {
   "cell_type": "code",
   "execution_count": 11,
   "id": "dcbd0467",
   "metadata": {},
   "outputs": [
    {
     "data": {
      "text/plain": [
       "['주소록', 'new_sheet1', 'new_sheet2']"
      ]
     },
     "execution_count": 11,
     "metadata": {},
     "output_type": "execute_result"
    }
   ],
   "source": [
    "wb.sheetnames"
   ]
  },
  {
   "cell_type": "code",
   "execution_count": 12,
   "id": "cc474f74",
   "metadata": {},
   "outputs": [],
   "source": [
    "ws['A1'] = '이름'\n",
    "ws['B1'] = '전화번호'\n",
    "ws['A2'] = '홍길동'\n",
    "ws['B2'] = '7777'"
   ]
  },
  {
   "cell_type": "markdown",
   "id": "0d93db82",
   "metadata": {},
   "source": [
    "내용 입력"
   ]
  },
  {
   "cell_type": "code",
   "execution_count": 13,
   "id": "8bc21439",
   "metadata": {},
   "outputs": [
    {
     "data": {
      "text/plain": [
       "<Cell '주소록'.B3>"
      ]
     },
     "execution_count": 13,
     "metadata": {},
     "output_type": "execute_result"
    }
   ],
   "source": [
    "ws.cell(row=3, column=1, value=\"홍길순\")\n",
    "ws.cell(row=3, column=2, value=\"2222\")"
   ]
  },
  {
   "cell_type": "markdown",
   "id": "82632beb",
   "metadata": {},
   "source": [
    "또 다른 내용 입력 방법"
   ]
  },
  {
   "cell_type": "code",
   "execution_count": 14,
   "id": "40ec77c0",
   "metadata": {},
   "outputs": [],
   "source": [
    "ws.cell(row=3, column=1).value = '홍길순'\n",
    "ws.cell(row=3, column=2).value = '2222'"
   ]
  },
  {
   "cell_type": "markdown",
   "id": "065cff51",
   "metadata": {},
   "source": [
    "같은 방법"
   ]
  },
  {
   "cell_type": "code",
   "execution_count": 15,
   "id": "0160ead2",
   "metadata": {},
   "outputs": [
    {
     "data": {
      "text/plain": [
       "'홍길순'"
      ]
     },
     "execution_count": 15,
     "metadata": {},
     "output_type": "execute_result"
    }
   ],
   "source": [
    "ws.cell(3, 1).value"
   ]
  },
  {
   "cell_type": "markdown",
   "id": "046536bf",
   "metadata": {},
   "source": [
    "셀 내용 확인"
   ]
  },
  {
   "cell_type": "code",
   "execution_count": 16,
   "id": "ac483bfb",
   "metadata": {},
   "outputs": [],
   "source": [
    "wb.save('address.xlsx')"
   ]
  },
  {
   "cell_type": "markdown",
   "id": "cdc04847",
   "metadata": {},
   "source": [
    "엑셀파일 저장"
   ]
  },
  {
   "attachments": {
    "image-2.png": {
     "image/png": "[encoded data removed]"
    },
    "image.png": {
     "image/png": "[encoded data removed]"
    }
   },
   "cell_type": "markdown",
   "id": "98c69e22",
   "metadata": {},
   "source": [
    "저장한 엑셀파일 .zip 확장자로 변경하여 엑세파일의 구성요소 확인가능\n",
    "![image.png](attachment:image.png)\n",
    "![image-2.png](attachment:image-2.png)"
   ]
  },
  {
   "cell_type": "code",
   "execution_count": 17,
   "id": "041a8466",
   "metadata": {},
   "outputs": [
    {
     "data": {
      "text/plain": [
       "['주소록', 'new_sheet1', 'new_sheet2']"
      ]
     },
     "execution_count": 17,
     "metadata": {},
     "output_type": "execute_result"
    }
   ],
   "source": [
    "from openpyxl import load_workbook\n",
    "\n",
    "wb2 = load_workbook('address.xlsx')\n",
    "wb2.sheetnames"
   ]
  },
  {
   "cell_type": "markdown",
   "id": "2d484792",
   "metadata": {},
   "source": [
    "엑셀파일 불러오기"
   ]
  },
  {
   "cell_type": "code",
   "execution_count": 18,
   "id": "431fefaa",
   "metadata": {},
   "outputs": [
    {
     "data": {
      "text/plain": [
       "'이름'"
      ]
     },
     "execution_count": 18,
     "metadata": {},
     "output_type": "execute_result"
    }
   ],
   "source": [
    "sheet = wb2['주소록']\n",
    "sheet['A1'].value"
   ]
  },
  {
   "cell_type": "code",
   "execution_count": 19,
   "id": "da015223",
   "metadata": {},
   "outputs": [],
   "source": [
    "import pandas as pd"
   ]
  },
  {
   "cell_type": "markdown",
   "id": "c97e32d6",
   "metadata": {},
   "source": [
    "pd.read_csv\n",
    "\n",
    "csv는 순수하게 데이터만 있음"
   ]
  },
  {
   "cell_type": "markdown",
   "id": "a69a5986",
   "metadata": {},
   "source": [
    "pd.read_excel\n",
    "\n",
    "여기서는 엑셀다룸\n",
    "\n",
    "그외에도 json, pdf, html 등 다양함"
   ]
  },
  {
   "cell_type": "code",
   "execution_count": 20,
   "id": "f23ffefb",
   "metadata": {},
   "outputs": [],
   "source": [
    "df = pd.read_excel('address.xlsx')"
   ]
  },
  {
   "cell_type": "code",
   "execution_count": 21,
   "id": "0b63b5bc",
   "metadata": {},
   "outputs": [
    {
     "data": {
      "text/html": [
       "<div>\n",
       "<style scoped>\n",
       "    .dataframe tbody tr th:only-of-type {\n",
       "        vertical-align: middle;\n",
       "    }\n",
       "\n",
       "    .dataframe tbody tr th {\n",
       "        vertical-align: top;\n",
       "    }\n",
       "\n",
       "    .dataframe thead th {\n",
       "        text-align: right;\n",
       "    }\n",
       "</style>\n",
       "<table border=\"1\" class=\"dataframe\">\n",
       "  <thead>\n",
       "    <tr style=\"text-align: right;\">\n",
       "      <th></th>\n",
       "      <th>이름</th>\n",
       "      <th>전화번호</th>\n",
       "    </tr>\n",
       "  </thead>\n",
       "  <tbody>\n",
       "    <tr>\n",
       "      <th>0</th>\n",
       "      <td>홍길동</td>\n",
       "      <td>7777</td>\n",
       "    </tr>\n",
       "    <tr>\n",
       "      <th>1</th>\n",
       "      <td>홍길순</td>\n",
       "      <td>2222</td>\n",
       "    </tr>\n",
       "  </tbody>\n",
       "</table>\n",
       "</div>"
      ],
      "text/plain": [
       "    이름  전화번호\n",
       "0  홍길동  7777\n",
       "1  홍길순  2222"
      ]
     },
     "execution_count": 21,
     "metadata": {},
     "output_type": "execute_result"
    }
   ],
   "source": [
    "df"
   ]
  },
  {
   "cell_type": "code",
   "execution_count": 22,
   "id": "cac67241",
   "metadata": {},
   "outputs": [
    {
     "data": {
      "text/plain": [
       "pandas.core.frame.DataFrame"
      ]
     },
     "execution_count": 22,
     "metadata": {},
     "output_type": "execute_result"
    }
   ],
   "source": [
    "type(df)"
   ]
  },
  {
   "cell_type": "code",
   "execution_count": 23,
   "id": "35e44c2a",
   "metadata": {},
   "outputs": [
    {
     "data": {
      "text/plain": [
       "array([['홍길동', 7777],\n",
       "       ['홍길순', 2222]], dtype=object)"
      ]
     },
     "execution_count": 23,
     "metadata": {},
     "output_type": "execute_result"
    }
   ],
   "source": [
    "df.values"
   ]
  },
  {
   "cell_type": "markdown",
   "id": "f0092f02",
   "metadata": {},
   "source": [
    "넘파이 배열 형식으로 꺼낼수도 있음"
   ]
  },
  {
   "cell_type": "code",
   "execution_count": 24,
   "id": "38b5855d",
   "metadata": {},
   "outputs": [
    {
     "data": {
      "text/plain": [
       "numpy.ndarray"
      ]
     },
     "execution_count": 24,
     "metadata": {},
     "output_type": "execute_result"
    }
   ],
   "source": [
    "type(df.values)"
   ]
  },
  {
   "cell_type": "code",
   "execution_count": 25,
   "id": "c866cc54",
   "metadata": {},
   "outputs": [
    {
     "data": {
      "text/plain": [
       "0    7777\n",
       "1    2222\n",
       "Name: 전화번호, dtype: int64"
      ]
     },
     "execution_count": 25,
     "metadata": {},
     "output_type": "execute_result"
    }
   ],
   "source": [
    "df['전화번호']"
   ]
  },
  {
   "cell_type": "code",
   "execution_count": 26,
   "id": "9e5fefd4",
   "metadata": {},
   "outputs": [
    {
     "data": {
      "text/plain": [
       "이름       홍길동\n",
       "전화번호    7777\n",
       "Name: 0, dtype: object"
      ]
     },
     "execution_count": 26,
     "metadata": {},
     "output_type": "execute_result"
    }
   ],
   "source": [
    "df.loc[0]"
   ]
  },
  {
   "cell_type": "code",
   "execution_count": 27,
   "id": "64ed7136",
   "metadata": {},
   "outputs": [
    {
     "data": {
      "text/plain": [
       "pandas.core.series.Series"
      ]
     },
     "execution_count": 27,
     "metadata": {},
     "output_type": "execute_result"
    }
   ],
   "source": [
    "type(df['전화번호'])"
   ]
  },
  {
   "cell_type": "markdown",
   "id": "202c1568",
   "metadata": {},
   "source": [
    "여러가지 방식으로 데이터 꺼낼 수 있음"
   ]
  },
  {
   "cell_type": "code",
   "execution_count": 28,
   "id": "dc36bd45",
   "metadata": {},
   "outputs": [],
   "source": [
    "df.to_csv('address.csv')"
   ]
  },
  {
   "attachments": {
    "image.png": {
     "image/png": "[encoded data removed]"
    }
   },
   "cell_type": "markdown",
   "id": "ab813277",
   "metadata": {},
   "source": [
    "csv 파일로 바꿔 저장, 기본적으로 csv파일은 엑셀과 메모장으로도 볼 수 있음\n",
    "그러나 엑셀은 한글이 안보이고 메모장은 잘보임\n",
    "엑셀파일은 기본적으로 utf-8로 인코딩되어있는 파일 읽지못함\n",
    "그래서 파일 인코딩을 cp949(ANSI)로 바꾸면 엑셀로 한글 읽을 수 있음\n",
    "![image.png](attachment:image.png)"
   ]
  },
  {
   "cell_type": "markdown",
   "id": "a94a896b",
   "metadata": {},
   "source": [
    "## 엑셀 속성 다루기"
   ]
  },
  {
   "cell_type": "code",
   "execution_count": 29,
   "id": "9c47a0e3",
   "metadata": {},
   "outputs": [
    {
     "data": {
      "text/plain": [
       "<Worksheet \"주소록\">"
      ]
     },
     "execution_count": 29,
     "metadata": {},
     "output_type": "execute_result"
    }
   ],
   "source": [
    "ws"
   ]
  },
  {
   "cell_type": "code",
   "execution_count": 30,
   "id": "e9358207",
   "metadata": {},
   "outputs": [],
   "source": [
    "ws.column_dimensions['A'].width = 20"
   ]
  },
  {
   "cell_type": "markdown",
   "id": "519a6d9f",
   "metadata": {},
   "source": [
    "엑셀에서 'A' column의 칸 너비를 20으로 늘림"
   ]
  },
  {
   "cell_type": "code",
   "execution_count": 31,
   "id": "265bc487",
   "metadata": {},
   "outputs": [],
   "source": [
    "wb.save('address.xlsx')"
   ]
  },
  {
   "cell_type": "code",
   "execution_count": 32,
   "id": "df2bb699",
   "metadata": {},
   "outputs": [],
   "source": [
    "ws['A4'] = 123456789"
   ]
  },
  {
   "cell_type": "code",
   "execution_count": 33,
   "id": "10e73d3f",
   "metadata": {},
   "outputs": [],
   "source": [
    "wb.save('address.xlsx')"
   ]
  },
  {
   "cell_type": "code",
   "execution_count": 34,
   "id": "ab401009",
   "metadata": {},
   "outputs": [],
   "source": [
    "from openpyxl.styles import PatternFill\n",
    "fill = PatternFill(start_color='eff7f7', fill_type='solid')\n",
    "ws['A1'].fill = fill"
   ]
  },
  {
   "cell_type": "code",
   "execution_count": 35,
   "id": "df17456f",
   "metadata": {},
   "outputs": [],
   "source": [
    "wb.save('address.xlsx')"
   ]
  },
  {
   "cell_type": "markdown",
   "id": "4b57d40e",
   "metadata": {},
   "source": [
    "cell 색깔 변경"
   ]
  },
  {
   "cell_type": "code",
   "execution_count": 36,
   "id": "a07725fb",
   "metadata": {},
   "outputs": [],
   "source": [
    "from openpyxl.styles import Font, colors"
   ]
  },
  {
   "cell_type": "code",
   "execution_count": 37,
   "id": "636bb76f",
   "metadata": {},
   "outputs": [],
   "source": [
    "font = Font(name='휴먼편지체', size=11, color=colors.BLUE, italic=True)"
   ]
  },
  {
   "cell_type": "code",
   "execution_count": 38,
   "id": "152b5c08",
   "metadata": {},
   "outputs": [],
   "source": [
    "ws['A2'].font = font"
   ]
  },
  {
   "cell_type": "code",
   "execution_count": 39,
   "id": "e9b39457",
   "metadata": {},
   "outputs": [],
   "source": [
    "wb.save('address.xlsx')"
   ]
  },
  {
   "cell_type": "markdown",
   "id": "a470b7b4",
   "metadata": {},
   "source": [
    "cell 폰트 변경"
   ]
  },
  {
   "cell_type": "code",
   "execution_count": null,
   "id": "d0263406",
   "metadata": {},
   "outputs": [],
   "source": []
  }
 ],
 "metadata": {
  "kernelspec": {
   "display_name": "Python 3 (ipykernel)",
   "language": "python",
   "name": "python3"
  },
  "language_info": {
   "codemirror_mode": {
    "name": "ipython",
    "version": 3
   },
   "file_extension": ".py",
   "mimetype": "text/x-python",
   "name": "python",
   "nbconvert_exporter": "python",
   "pygments_lexer": "ipython3",
   "version": "3.9.13"
  }
 },
 "nbformat": 4,
 "nbformat_minor": 5
}
